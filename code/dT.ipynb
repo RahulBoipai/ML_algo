{
 "cells": [
  {
   "cell_type": "code",
   "execution_count": null,
   "metadata": {},
   "outputs": [],
   "source": [
    "#calculate cost\n",
    "def calculate_cost(left_subset, right_subset, classes):\n",
    "    total_data_points = len(left_subset)+len(right_subset)\n",
    "    \n",
    "    gini_left = gini_right = 0\n",
    "    \n",
    "    if len(left_subset) > 0:\n",
    "        sum_of_prob = 0\n",
    "        for c in classes:\n",
    "            num_in_c = len([l for l in left_subset if l[1] == c])\n",
    "            prob = num_in_c / len(left_subset)\n",
    "            sum_of_prob += prob**2\n",
    "        gini_left = 1 - sum_of_prob\n",
    "        \n",
    "    if len(right_subset) > 0:\n",
    "        sum_of_prob = 0\n",
    "        for c in classes:\n",
    "            num_in_c = len([l for l in right_subset if l[1] == c])\n",
    "            \n",
    "    "
   ]
  }
 ],
 "metadata": {
  "kernelspec": {
   "display_name": "dev",
   "language": "python",
   "name": "python3"
  },
  "language_info": {
   "name": "python",
   "version": "3.10.11"
  }
 },
 "nbformat": 4,
 "nbformat_minor": 2
}
